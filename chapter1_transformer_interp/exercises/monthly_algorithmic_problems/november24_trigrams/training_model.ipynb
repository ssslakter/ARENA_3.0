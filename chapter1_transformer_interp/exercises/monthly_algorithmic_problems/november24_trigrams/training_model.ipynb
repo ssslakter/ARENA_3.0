{
 "cells": [
  {
   "attachments": {},
   "cell_type": "markdown",
   "metadata": {},
   "source": [
    "## Setup"
   ]
  },
  {
   "cell_type": "code",
   "execution_count": null,
   "metadata": {},
   "outputs": [],
   "source": [
    "import os\n",
    "import sys\n",
    "from pathlib import Path\n",
    "\n",
    "import circuitsvis as cv\n",
    "import einops\n",
    "import numpy as np\n",
    "import torch as t\n",
    "from eindex import eindex\n",
    "from IPython.display import display\n",
    "from plotly.subplots import make_subplots\n",
    "from torch import Tensor\n",
    "from transformer_lens import utils\n",
    "\n",
    "# t.set_grad_enabled(False)\n",
    "if str(exercises_path := Path(os.path.abspath(\"\")).parent.parent) not in sys.path:\n",
    "    sys.path.append(str(exercises_path))\n",
    "section_dir = exercises_path / \"monthly_algorithmic_problems/november24_trigrams\"\n",
    "assert section_dir.exists()\n",
    "\n",
    "from monthly_algorithmic_problems.november24_trigrams.dataset import BigramDataset\n",
    "from monthly_algorithmic_problems.november24_trigrams.model import create_model\n",
    "from monthly_algorithmic_problems.november24_trigrams.training import TrainArgs, Trainer\n",
    "from plotly_utils import bar, hist, imshow, line\n",
    "\n",
    "device = t.device(\"cuda\" if t.cuda.is_available() else \"cpu\")\n"
   ]
  },
  {
   "cell_type": "markdown",
   "metadata": {},
   "source": [
    "## Dataset\n",
    "\n",
    "Each sequence has tokens uniformly generated at random, except if the first 2 tokens of a particular trigram appear, in which case the next token is uniquely determined as the third token of the trigram. You can list all the trigrams with `dataset.trigrams`.\n"
   ]
  },
  {
   "cell_type": "code",
   "execution_count": null,
   "metadata": {},
   "outputs": [],
   "source": [
    "dataset = BigramDataset(size=10, d_vocab=10, seq_len=10, trigram_prob=0.1, device=device, seed=42)\n",
    "print(dataset.trigrams)\n",
    "print(dataset.toks)\n"
   ]
  },
  {
   "cell_type": "markdown",
   "metadata": {},
   "source": [
    "## Training\n",
    "\n",
    "Link to WandB run [here](https://wandb.ai/callum-mcdougall/alg-challenge-trigrams-nov24/runs/c7jjsofv?nw=nwusercallummcdougall). There are 5 metrics:\n",
    "\n",
    "- `train_loss`, which is the average cross entropy loss on the training set\n",
    "- `train_loss_as_frac`, which is the loss scaled so that 1 is the loss you get when uniformly guessing over all tokens in the vocab, and 0 is the lowest possible loss (where the model has a uniform distribution everywhere except for the trigrams, where it has probability 1 on the correct token)\n",
    "- `trigram_*`, which are three metrics specifically for the trigram dataset (i.e. the dataset consisting of only the dataset's special trigrams, i.e. the sequences `(a, b, c)` where `c` always directly follows `ab`). These metrics are only computed on the last token (i.e. the 3rd one) in each sequence. We have:\n",
    "    - `trigram_n_correct` = number of trigrams that were correctly predicted\n",
    "    - `trigram_frac_correct` = fraction of total trigrams that were correctly predicted\n",
    "    - `trigram_avg_correct_prob` = average probability assigned to the correct trigram token\n",
    "\n",
    "Note that `trigram_frac_correct` is higher than `trigram_avg_correct_prob`, because some trigrams are predicted with slightly higher than uniform probability but still far from certainty. Also note that neither of these values has hit 100%, indicating that the model has learned most but not all of the trigrams. You can investigate these results for yourself when you inspect the model below!"
   ]
  },
  {
   "cell_type": "code",
   "execution_count": null,
   "metadata": {},
   "outputs": [],
   "source": [
    "args = TrainArgs(\n",
    "    #\n",
    "    # Dataset\n",
    "    d_vocab=75,\n",
    "    seq_len=50,\n",
    "    trigram_prob=0.05,  # this is the probability that any randomly selected token is in a trigram\n",
    "    n_trigrams=None,  # n_trigrams is determined by the trigram_prob\n",
    "    #\n",
    "    # Training\n",
    "    trainset_size=100_000,\n",
    "    valset_size=5_000,\n",
    "    epochs=100,\n",
    "    batch_size=512,\n",
    "    lr_start=1e-3,\n",
    "    lr_end=1e-4,\n",
    "    weight_decay=1e-3,\n",
    "    #\n",
    "    # Model architecture\n",
    "    d_model=32,\n",
    "    d_head=24,\n",
    "    n_layers=1,\n",
    "    n_heads=1,\n",
    "    d_mlp=20,\n",
    "    normalization_type=None,\n",
    "    #\n",
    "    # Misc.\n",
    "    seed=40,\n",
    "    device=device,\n",
    "    use_wandb=True,\n",
    ")\n",
    "model = Trainer(args).train()\n",
    "\n",
    "# Save the model\n",
    "filename = section_dir / \"trigram_model.pt\"\n",
    "t.save(model.state_dict(), filename)\n"
   ]
  },
  {
   "cell_type": "code",
   "execution_count": null,
   "metadata": {},
   "outputs": [],
   "source": [
    "# Check we can load in the model\n",
    "model = create_model(\n",
    "    d_vocab=75,\n",
    "    seq_len=50,\n",
    "    d_model=32,\n",
    "    d_head=24,\n",
    "    n_layers=1,\n",
    "    n_heads=1,\n",
    "    d_mlp=20,\n",
    "    normalization_type=None,\n",
    "    seed=40,\n",
    "    device=device,\n",
    ")\n",
    "model.load_state_dict(t.load(filename, weights_only=True))\n"
   ]
  },
  {
   "cell_type": "markdown",
   "metadata": {},
   "source": [
    "## Testing"
   ]
  },
  {
   "cell_type": "code",
   "execution_count": null,
   "metadata": {},
   "outputs": [],
   "source": [
    "# Define some basic stuff\n",
    "\n",
    "BIGRAM_PROB = 0.05\n",
    "BATCH_SIZE = 2500\n",
    "\n",
    "dataset = BigramDataset(\n",
    "    size=BATCH_SIZE,\n",
    "    d_vocab=model.cfg.d_vocab,\n",
    "    seq_len=model.cfg.n_ctx,\n",
    "    trigram_prob=BIGRAM_PROB,\n",
    "    device=device,\n",
    "    seed=40,\n",
    ")\n",
    "\n",
    "logits, cache = model.run_with_cache(dataset.toks)\n",
    "logprobs = logits[:, :-1].log_softmax(-1)\n",
    "probs = logprobs.softmax(-1)\n",
    "\n",
    "targets = dataset.toks[:, 1:]\n",
    "logprobs_correct = eindex(logprobs, targets, \"batch seq [batch seq]\")\n",
    "probs_correct = eindex(probs, targets, \"batch seq [batch seq]\")\n",
    "\n",
    "print(f\"Average cross entropy loss: {-logprobs_correct.mean().item():.3f}\")\n",
    "print(f\"Mean probability on correct label: {probs_correct.mean():.3f}\")\n",
    "print(f\"Median probability on correct label: {probs_correct.median():.3f}\")\n",
    "print(f\"Min probability on correct label: {probs_correct.min():.3f}\")\n",
    "\n",
    "imshow(probs_correct[:50], width=600, height=600, title=\"Sample model probabilities\")\n",
    "\n",
    "# Observation: they're mostly 1/d_vocab except for the trigrams which are 1, which is what we expect\n"
   ]
  }
 ],
 "metadata": {
  "kernelspec": {
   "display_name": "python3",
   "language": "python",
   "name": "python3"
  }
 },
 "nbformat": 4,
 "nbformat_minor": 2
}
